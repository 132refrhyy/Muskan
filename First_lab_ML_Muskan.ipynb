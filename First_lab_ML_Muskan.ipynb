{
  "nbformat": 4,
  "nbformat_minor": 0,
  "metadata": {
    "colab": {
      "provenance": [],
      "authorship_tag": "ABX9TyP2AahsRiu/gwR3026Xr/yX",
      "include_colab_link": true
    },
    "kernelspec": {
      "name": "python3",
      "display_name": "Python 3"
    },
    "language_info": {
      "name": "python"
    }
  },
  "cells": [
    {
      "cell_type": "markdown",
      "metadata": {
        "id": "view-in-github",
        "colab_type": "text"
      },
      "source": [
        "<a href=\"https://colab.research.google.com/github/132refrhyy/Muskan/blob/main/First_lab_ML_Muskan.ipynb\" target=\"_parent\"><img src=\"https://colab.research.google.com/assets/colab-badge.svg\" alt=\"Open In Colab\"/></a>"
      ]
    },
    {
      "cell_type": "code",
      "source": [
        "#Question 01\n",
        "def reverse_and_concatenate(A, B):\n",
        "    reversed_A = A[::-1]\n",
        "    result = reversed_A + B\n",
        "    return result\n",
        "\n",
        "string_A = \"Hello\"\n",
        "string_B = \" Python!\"\n",
        "final_string = reverse_and_concatenate(string_A, string_B)\n",
        "print(final_string)"
      ],
      "metadata": {
        "colab": {
          "base_uri": "https://localhost:8080/"
        },
        "id": "i9DcsjCCuUvp",
        "outputId": "1812d7fa-b442-40a4-93f4-e8045d60c009"
      },
      "execution_count": 5,
      "outputs": [
        {
          "output_type": "stream",
          "name": "stdout",
          "text": [
            "olleH Python!\n"
          ]
        }
      ]
    },
    {
      "cell_type": "code",
      "source": [
        "#Question no 2\n",
        "def find_highest_paid_female_worker(work_hours, pay_rate=20):\n",
        "    hours_worked = 0\n",
        "    female_worker = None\n",
        "\n",
        "    for name, hours, gender in work_hours:\n",
        "        if gender == 'F' and hours > hours_worked:\n",
        "            hours_worked = hours\n",
        "            female_worker = name\n",
        "\n",
        "    if female_worker:\n",
        "        payment = hours_worked * pay_rate\n",
        "        return female_worker, payment\n",
        "    else:\n",
        "        return \"No female workers found\", 0\n",
        "\n",
        "work_hours = [('Abby', 100, 'F'), ('Billy', 400, 'M'), ('Cassie', 800, 'F'), ('Maggi', 600, 'F'),\n",
        "              ('Alex', 500, 'M'), ('Raj', 225, 'M'), ('Penny', 920, 'F'), ('Ben', 300, 'M')]\n",
        "\n",
        "name, payment =find_highest_paid_female_worker(work_hours)\n",
        "if name != \"No female workers found\":\n",
        "    print(f\"The female worker who worked the most hours is {name}.\")\n",
        "    print(f\"She should be paid ${payment}.\")\n",
        "else:\n",
        "    print(name)"
      ],
      "metadata": {
        "colab": {
          "base_uri": "https://localhost:8080/"
        },
        "id": "1zKzgUMKubI6",
        "outputId": "b369b540-8166-430b-86ec-fc3147c179c1"
      },
      "execution_count": 7,
      "outputs": [
        {
          "output_type": "stream",
          "name": "stdout",
          "text": [
            "The female worker who worked the most hours is Penny.\n",
            "She should be paid $18400.\n"
          ]
        }
      ]
    },
    {
      "cell_type": "code",
      "source": [
        "#Question no 3\n",
        "import numpy as np\n",
        "matrix = np.tile([[1,2],[2,2]],(5,2))\n",
        "print(matrix)"
      ],
      "metadata": {
        "colab": {
          "base_uri": "https://localhost:8080/"
        },
        "id": "YU7ZdIxgujPp",
        "outputId": "d2ce3162-b496-437d-cdee-81d0c107657c"
      },
      "execution_count": 9,
      "outputs": [
        {
          "output_type": "stream",
          "name": "stdout",
          "text": [
            "[[1 2 1 2]\n",
            " [2 2 2 2]\n",
            " [1 2 1 2]\n",
            " [2 2 2 2]\n",
            " [1 2 1 2]\n",
            " [2 2 2 2]\n",
            " [1 2 1 2]\n",
            " [2 2 2 2]\n",
            " [1 2 1 2]\n",
            " [2 2 2 2]]\n"
          ]
        }
      ]
    },
    {
      "cell_type": "code",
      "source": [
        "import numpy as np\n",
        "mat1 = np.array([[1,2],[3,4]])\n",
        "mat2 = np.array([[5,6],[7,8]])\n",
        "if mat1.shape[1] == mat2.shape[0]:\n",
        "  dot_product = np.dot(mat1 , mat2)\n",
        "  print(\"dot product result :\")\n",
        "  print(dot_product)\n",
        "else:\n",
        "  print(\"matrix dimensions are not compatible for dot product\")\n"
      ],
      "metadata": {
        "colab": {
          "base_uri": "https://localhost:8080/"
        },
        "id": "Z_KqGaexvBV6",
        "outputId": "51ef2c83-e900-423c-cfe5-3b8453e397bb"
      },
      "execution_count": 10,
      "outputs": [
        {
          "output_type": "stream",
          "name": "stdout",
          "text": [
            "dot product result :\n",
            "[[19 22]\n",
            " [43 50]]\n"
          ]
        }
      ]
    }
  ]
}